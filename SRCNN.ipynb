{
 "cells": [
  {
   "cell_type": "code",
   "execution_count": 9,
   "id": "cded4c08-ac40-4e50-ac2a-f3900c09fdf2",
   "metadata": {},
   "outputs": [],
   "source": [
    "import matplotlib.pyplot as plt\n",
    "import os\n",
    "import cv2\n",
    "import numpy as np\n",
    "from tqdm import tqdm\n",
    "from keras.models import Sequential\n",
    "from keras.layers import Conv2D\n",
    "from tensorflow.keras import layers\n",
    "from tensorflow.keras.optimizers import Adam\n",
    "import tensorflow as tf\n",
    "from tensorflow.keras.layers import *\n",
    "from tensorflow.keras import Model"
   ]
  },
  {
   "cell_type": "code",
   "execution_count": 10,
   "id": "0cc8542f-b5ab-4152-9079-f07c2ce29596",
   "metadata": {},
   "outputs": [
    {
     "name": "stderr",
     "output_type": "stream",
     "text": [
      "100%|███████████████████████████████████████████████████████████████████████████| 15125/15125 [00:31<00:00, 486.07it/s]\n"
     ]
    }
   ],
   "source": [
    "y_train,x_train=[],[]\n",
    "for path in tqdm(os.listdir('y_train')):\n",
    "    y_train.append(np.load('y_train/'+path))\n",
    "    x_train.append(np.load('x_train/'+path))\n",
    "y_train=np.array(y_train)\n",
    "x_train=np.array(x_train)"
   ]
  },
  {
   "cell_type": "code",
   "execution_count": 11,
   "id": "fe7ef647-03e8-4765-9fc3-a5978088dcc5",
   "metadata": {},
   "outputs": [
    {
     "data": {
      "text/plain": [
       "(numpy.ndarray, (33, 33, 3), (21, 21, 3))"
      ]
     },
     "execution_count": 11,
     "metadata": {},
     "output_type": "execute_result"
    }
   ],
   "source": [
    "x = x_train[0]\n",
    "y = y_train[0]\n",
    "type(x),x.shape,y.shape"
   ]
  },
  {
   "cell_type": "code",
   "execution_count": 12,
   "id": "d4005fdf-3eca-4aff-8769-c6b58239d2d5",
   "metadata": {},
   "outputs": [],
   "source": [
    "model = Sequential()\n",
    "model.add(Conv2D(filters=64, kernel_size = (9, 9), kernel_initializer='he_normal',\n",
    "          activation='relu', padding='valid', input_shape=(33,33,3)))\n",
    "model.add(Conv2D(filters=32, kernel_size = (1, 1), kernel_initializer='he_normal',\n",
    "          activation='relu', padding='same'))\n",
    "model.add(Conv2D(filters=3, kernel_size = (5, 5), kernel_initializer='he_normal',\n",
    "          activation='linear', padding='valid'))\n",
    "model.compile(loss='mean_squared_error', metrics=['mean_squared_error']);"
   ]
  },
  {
   "cell_type": "code",
   "execution_count": 13,
   "id": "3bc819cb-73fa-4895-b2b8-6d7c12008b19",
   "metadata": {},
   "outputs": [
    {
     "name": "stdout",
     "output_type": "stream",
     "text": [
      "Model: \"sequential_1\"\n",
      "_________________________________________________________________\n",
      " Layer (type)                Output Shape              Param #   \n",
      "=================================================================\n",
      " conv2d_3 (Conv2D)           (None, 25, 25, 64)        15616     \n",
      "                                                                 \n",
      " conv2d_4 (Conv2D)           (None, 25, 25, 32)        2080      \n",
      "                                                                 \n",
      " conv2d_5 (Conv2D)           (None, 21, 21, 3)         2403      \n",
      "                                                                 \n",
      "=================================================================\n",
      "Total params: 20,099\n",
      "Trainable params: 20,099\n",
      "Non-trainable params: 0\n",
      "_________________________________________________________________\n"
     ]
    }
   ],
   "source": [
    "model.summary()"
   ]
  },
  {
   "cell_type": "code",
   "execution_count": 14,
   "id": "a32eb593-feb0-46ab-a3af-58a2697adf6e",
   "metadata": {
    "scrolled": false
   },
   "outputs": [
    {
     "name": "stdout",
     "output_type": "stream",
     "text": [
      "Epoch 1/2\n",
      "473/473 [==============================] - 45s 93ms/step - loss: 0.0178 - mean_squared_error: 0.0178\n",
      "Epoch 2/2\n",
      "473/473 [==============================] - 44s 93ms/step - loss: 0.0059 - mean_squared_error: 0.0059\n"
     ]
    },
    {
     "data": {
      "text/plain": [
       "<keras.callbacks.History at 0x1cecd19e2c8>"
      ]
     },
     "execution_count": 14,
     "metadata": {},
     "output_type": "execute_result"
    }
   ],
   "source": [
    "model.fit(x_train,y_train,epochs=2)"
   ]
  },
  {
   "cell_type": "code",
   "execution_count": 26,
   "id": "96f32719",
   "metadata": {},
   "outputs": [
    {
     "name": "stderr",
     "output_type": "stream",
     "text": [
      "WARNING:absl:Found untraced functions such as _jit_compiled_convolution_op, _jit_compiled_convolution_op, _jit_compiled_convolution_op, _update_step_xla while saving (showing 4 of 4). These functions will not be directly callable after loading.\n"
     ]
    },
    {
     "name": "stdout",
     "output_type": "stream",
     "text": [
      "INFO:tensorflow:Assets written to: C:/Users/paulo.DESKTOP-BBH41AT/Desktop/IC/models/1303\\assets\n"
     ]
    },
    {
     "name": "stderr",
     "output_type": "stream",
     "text": [
      "INFO:tensorflow:Assets written to: C:/Users/paulo.DESKTOP-BBH41AT/Desktop/IC/models/1303\\assets\n"
     ]
    }
   ],
   "source": [
    "model.save('C:/Users/paulo.DESKTOP-BBH41AT/Desktop/IC/models/1303')"
   ]
  },
  {
   "cell_type": "code",
   "execution_count": null,
   "id": "920d857f",
   "metadata": {},
   "outputs": [],
   "source": []
  }
 ],
 "metadata": {
  "kernelspec": {
   "display_name": "Python 3 (ipykernel)",
   "language": "python",
   "name": "python3"
  },
  "language_info": {
   "codemirror_mode": {
    "name": "ipython",
    "version": 3
   },
   "file_extension": ".py",
   "mimetype": "text/x-python",
   "name": "python",
   "nbconvert_exporter": "python",
   "pygments_lexer": "ipython3",
   "version": "3.7.7"
  }
 },
 "nbformat": 4,
 "nbformat_minor": 5
}
